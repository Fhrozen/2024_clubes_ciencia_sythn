{
 "cells": [
  {
   "cell_type": "markdown",
   "metadata": {},
   "source": [
    "# Procesamiento de Audio empleando Numpy, Librosa y Matplotlib"
   ]
  },
  {
   "cell_type": "markdown",
   "metadata": {},
   "source": [
    "Para la preparacion de este material, se ha tomado como referencia los cursos https://huggingface.co/learn/nlp-course (Capitulo 3-4),\n",
    "https://huggingface.co/learn/audio-course (Unidad 1 - 3), y manuales de Real Python (https://realpython.com/python-matplotlib-guide/)"
   ]
  },
  {
   "cell_type": "markdown",
   "metadata": {},
   "source": [
    "## Instrucciones de Instalacion\n",
    "\n",
    "Antes de empezar, verificar si tienen instalado las librerias necesarias.\n",
    "En su configuracion personal, pueden instalar desde el directorio base del repositorio usando `pip install -r installer/requirements.txt`,\n",
    "ya sea para Windows o Linux.\n",
    "\n",
    "En caso de usar Colab, pueden copiar el contenido en un archivo dentro de Colab, o en su propia nube.\n",
    "Ingresar la linea de codigo: `!pip install -r <folder>/requirements.txt` dentro de una celda, y presionar en `Ejecutar celda`"
   ]
  },
  {
   "cell_type": "markdown",
   "metadata": {},
   "source": [
    "## Visualizacion con Matplotlib"
   ]
  },
  {
   "cell_type": "markdown",
   "metadata": {},
   "source": [
    "Con Python, podemos aprovechar toda la potencia de las bibliotecas más populares de Python para analizar y visualizar datos."
   ]
  },
  {
   "cell_type": "code",
   "execution_count": null,
   "metadata": {},
   "outputs": [],
   "source": [
    "import numpy as np\n",
    "from matplotlib import pyplot as plt\n",
    "\n",
    "ys = 200 + np.random.randn(100)\n",
    "x = [x for x in range(len(ys))]\n",
    "\n",
    "plt.plot(x, ys, '-')\n",
    "plt.fill_between(x, ys, 195, where=(ys > 195), facecolor='g', alpha=0.6)\n",
    "\n",
    "plt.title(\"Visualizacion simple\")\n",
    "plt.show()"
   ]
  },
  {
   "cell_type": "markdown",
   "metadata": {},
   "source": [
    "Mostrando lineas"
   ]
  },
  {
   "cell_type": "code",
   "execution_count": null,
   "metadata": {},
   "outputs": [],
   "source": [
    "rng = np.arange(50)\n",
    "rnd = np.random.randint(0, 10, size=(3, rng.size))\n",
    "yrs = 1950 + rng\n",
    "fig, ax = plt.subplots(figsize=(5, 3))\n",
    "\n",
    "ax.stackplot(yrs, rng + rnd, labels=['Eastasia', 'Eurasia', 'Oceania'])\n",
    "ax.set_title('Crecimiento de la deuda combinada a traves del tiempo')\n",
    "ax.legend(loc='upper left')\n",
    "ax.set_ylabel('Total debt')\n",
    "ax.set_xlim(xmin=yrs[0], xmax=yrs[-1])\n",
    "fig.tight_layout()"
   ]
  },
  {
   "cell_type": "markdown",
   "metadata": {},
   "source": [
    "Mostrando diagramas de dispersion y barras"
   ]
  },
  {
   "cell_type": "code",
   "execution_count": null,
   "metadata": {},
   "outputs": [],
   "source": [
    "x = np.random.randint(low=1, high=11, size=50)\n",
    "y = x + np.random.randint(1, 5, size=x.size)\n",
    "data = np.column_stack((x, y))\n",
    "\n",
    "fig, (ax1, ax2) = plt.subplots(nrows=1, ncols=2, figsize=(8, 4))\n",
    "\n",
    "ax1.scatter(x=x, y=y, marker='o', c='r', edgecolor='b')\n",
    "ax1.set_title('Dispersion: $x$ versus $y$')\n",
    "ax1.set_xlabel('$x$')\n",
    "ax1.set_ylabel('$y$')\n",
    "\n",
    "ax2.hist(data, bins=np.arange(data.min(), data.max()),    label=('x', 'y'))\n",
    "ax2.legend(loc=(0.65, 0.8))\n",
    "ax2.set_title('Frecuencias de $x$ y $y$')\n",
    "ax2.yaxis.tick_right()"
   ]
  },
  {
   "cell_type": "markdown",
   "metadata": {},
   "source": [
    "Mostrando imagenes 3D"
   ]
  },
  {
   "cell_type": "code",
   "execution_count": null,
   "metadata": {},
   "outputs": [],
   "source": [
    "ax = plt.figure().add_subplot(projection='3d')\n",
    "\n",
    "# Plot a sin curve using the x and y axes.\n",
    "x = np.linspace(0, 1, 100)\n",
    "y = np.sin(x * 2 * np.pi) / 2 + 0.5\n",
    "ax.plot(x, y, zs=0, zdir='z', label='curve in (x, y)')\n",
    "\n",
    "# Trazar datos de diagrama de dispersión (20 puntos 2D por color) en los ejes x y z.\n",
    "colors = ('r', 'g', 'b', 'k')\n",
    "\n",
    "# Arreglando el estado aleatorio para la reproducibilidad\n",
    "np.random.seed(19680801)\n",
    "\n",
    "x = np.random.sample(20 * len(colors))\n",
    "y = np.random.sample(20 * len(colors))\n",
    "c_list = []\n",
    "for c in colors:\n",
    "    c_list.extend([c] * 20)\n",
    "# Al usar zdir='y', el valor y de los puntos es fijado a zs con valor 0\n",
    "# y los puntos (x, y) son trazados en los ejes x y z.\n",
    "ax.scatter(x, y, zs=0, zdir='y', c=c_list, label='points in (x, z)')\n",
    "\n",
    "# Hacer una leyenda, fijar limites y etiquetas en los ejes\n",
    "ax.legend()\n",
    "ax.set_xlim(0, 1)\n",
    "ax.set_ylim(0, 1)\n",
    "ax.set_zlim(0, 1)\n",
    "ax.set_xlabel('X')\n",
    "ax.set_ylabel('Y')\n",
    "ax.set_zlabel('Z')\n",
    "\n",
    "# Personaliza el angulo de vision para que sea mas facil ver donde se encuentan los puntos de dispersion\n",
    "# en el plano y=0 \n",
    "ax.view_init(elev=20., azim=-35, roll=0)\n",
    "\n",
    "plt.show()"
   ]
  },
  {
   "cell_type": "markdown",
   "metadata": {},
   "source": [
    "Otro ejemplo con imagenes 3D"
   ]
  },
  {
   "cell_type": "code",
   "execution_count": null,
   "metadata": {},
   "outputs": [],
   "source": [
    "import matplotlib.pyplot as plt\n",
    "import numpy as np\n",
    "\n",
    "from matplotlib import cbook, cm\n",
    "from matplotlib.colors import LightSource\n",
    "\n",
    "# Cargar y dar formato a la data\n",
    "dem = cbook.get_sample_data('jacksboro_fault_dem.npz')\n",
    "z = dem['elevation']\n",
    "nrows, ncols = z.shape\n",
    "x = np.linspace(dem['xmin'], dem['xmax'], ncols)\n",
    "y = np.linspace(dem['ymin'], dem['ymax'], nrows)\n",
    "x, y = np.meshgrid(x, y)\n",
    "\n",
    "region = np.s_[5:50, 5:50]\n",
    "x, y, z = x[region], y[region], z[region]\n",
    "\n",
    "# Configurar la figura\n",
    "fig, ax = plt.subplots(subplot_kw=dict(projection='3d'))\n",
    "\n",
    "ls = LightSource(270, 45)\n",
    "\n",
    "# Para utilizar un modo de sombreado personalizado, anule el sombreado\n",
    "# incorporado y pase los colores rgb de la superficie sombreada calculados a partir \n",
    "# de \"shade\".\n",
    "\n",
    "rgb = ls.shade(z, cmap=cm.gist_earth, vert_exag=0.1, blend_mode='soft')\n",
    "surf = ax.plot_surface(x, y, z, rstride=1, cstride=1, facecolors=rgb,\n",
    "                       linewidth=0, antialiased=False, shade=False)\n",
    "\n",
    "plt.show()"
   ]
  },
  {
   "cell_type": "markdown",
   "metadata": {},
   "source": [
    "## Generando Sonidos con Numpy"
   ]
  },
  {
   "cell_type": "markdown",
   "metadata": {},
   "source": [
    "Usando las frecuencias de las notas musicales, generar una melodia (Ref. https://www.ciudadpentagrama.com/2020/01/tabla-frecuencias-notas-musicales.html) \n",
    "\n",
    "Puedes guardar la melodia usando soundfile"
   ]
  },
  {
   "cell_type": "code",
   "execution_count": null,
   "metadata": {},
   "outputs": [],
   "source": [
    "import soundfile as sf\n",
    "\n",
    "bpm = 80 #\n",
    "fs = \n",
    "t = np.linspace(0, 60 / bpm)\n",
    "x = np.sin(2 * np.pi * t)\n",
    "\n",
    "melodia = [nota1, nota2, nota3, ...]\n",
    "sf.write(name_out, melodia, fs)"
   ]
  },
  {
   "cell_type": "markdown",
   "metadata": {},
   "source": [
    "Finalmente mostrar la grafica de su melodia"
   ]
  },
  {
   "cell_type": "code",
   "execution_count": null,
   "metadata": {},
   "outputs": [],
   "source": [
    "plt.plot(melodia)\n",
    "plt.show()"
   ]
  },
  {
   "cell_type": "markdown",
   "metadata": {},
   "source": [
    "## Librosa para procesamiento de sonido"
   ]
  },
  {
   "cell_type": "markdown",
   "metadata": {},
   "source": [
    "Es posible que haya visto sonidos visualizados como una forma de onda, que traza los valores de la muestra a lo largo del tiempo e ilustra los cambios en la amplitud del sonido. Esto también se conoce como representación del sonido en el dominio del tiempo."
   ]
  },
  {
   "cell_type": "code",
   "execution_count": null,
   "metadata": {},
   "outputs": [],
   "source": [
    "import librosa\n",
    "\n",
    "array, sampling_rate = librosa.load(librosa.ex(\"trumpet\"))\n",
    "plt.figure().set_figwidth(12)\n",
    "librosa.display.waveshow(array, sr=sampling_rate)"
   ]
  },
  {
   "cell_type": "markdown",
   "metadata": {},
   "source": [
    "##### El dominio de la frecuencia\n",
    "\n",
    "Otra forma de visualizar datos de audio es trazar el espectro de frecuencia de una señal de audio, también conocido como representación en el dominio de la frecuencia. El espectro se calcula mediante la transformada discreta de Fourier o DFT. Describe las frecuencias individuales que componen la señal y su intensidad.\n",
    "\n",
    "Tracemos el espectro de frecuencia para el mismo sonido de trompeta tomando el DFT usando la función rfft() de numpy. Si bien es posible trazar el espectro de todo el sonido, es más útil observar una región pequeña. Aquí tomaremos el DFT de las primeras 4096 muestras, que es aproximadamente la duración de la primera nota que se toca:"
   ]
  },
  {
   "cell_type": "code",
   "execution_count": null,
   "metadata": {},
   "outputs": [],
   "source": [
    "dft_input = array[:4096]\n",
    "\n",
    "# Calcular la (Transformada Discreta de Fourier) DFT\n",
    "window = np.hanning(len(dft_input))\n",
    "windowed_input = dft_input * window\n",
    "dft = np.fft.rfft(windowed_input)\n",
    "\n",
    "# Obtener la amplitud espectral en decibeles\n",
    "amplitude = np.abs(dft)\n",
    "amplitude_db = librosa.amplitude_to_db(amplitude, ref=np.max)\n",
    "\n",
    "# Obtener las frecuencias bins\n",
    "frequency = librosa.fft_frequencies(sr=sampling_rate, n_fft=len(dft_input))\n",
    "\n",
    "plt.figure().set_figwidth(12)\n",
    "plt.plot(frequency, amplitude_db)\n",
    "plt.xlabel(\"Frequency (Hz)\")\n",
    "plt.ylabel(\"Amplitude (dB)\")\n",
    "plt.xscale(\"log\")"
   ]
  },
  {
   "cell_type": "markdown",
   "metadata": {},
   "source": [
    "#### Espectrograma\n",
    "\n",
    "Qué pasa si queremos ver cómo cambian las frecuencias en una señal de audio? La trompeta toca varias notas y todas tienen frecuencias diferentes. El problema es que el espectro sólo muestra una instantánea congelada de las frecuencias en un instante determinado. La solución es tomar múltiples DFT, cada una de las cuales cubra solo una pequeña porción de tiempo, y apilar los espectros resultantes en un espectrograma.\n",
    "\n",
    "Un espectrograma traza el contenido de frecuencia de una señal de audio a medida que cambia con el tiempo. Le permite ver el tiempo, la frecuencia y la amplitud, todo en un solo gráfico. El algoritmo que realiza este cálculo es el STFT o Transformada de Fourier de Tiempo Corto.\n",
    "\n",
    "El espectrograma es una de las herramientas de audio más informativas disponibles para usted. Por ejemplo, cuando trabaja con una grabación musical, puede ver los distintos instrumentos y pistas vocales y cómo contribuyen al sonido general. En el habla, puedes identificar diferentes sonidos vocálicos, ya que cada vocal se caracteriza por frecuencias particulares."
   ]
  },
  {
   "cell_type": "code",
   "execution_count": null,
   "metadata": {},
   "outputs": [],
   "source": [
    "D = librosa.stft(array)\n",
    "S_db = librosa.amplitude_to_db(np.abs(D), ref=np.max)\n",
    "\n",
    "plt.figure().set_figwidth(12)\n",
    "librosa.display.specshow(S_db, x_axis=\"time\", y_axis=\"hz\")\n",
    "plt.colorbar()"
   ]
  },
  {
   "cell_type": "markdown",
   "metadata": {},
   "source": [
    "#### Espectrogramas Mel\n",
    "\n",
    "Un espectrograma mel es una variación del espectrograma que se usa comúnmente en tareas de procesamiento del habla y aprendizaje automático. Es similar a un espectrograma en que muestra el contenido de frecuencia de una señal de audio a lo largo del tiempo, pero en un eje de frecuencia diferente.\n",
    "\n",
    "En un espectrograma estándar, el eje de frecuencia es lineal y se mide en hercios (Hz). Sin embargo, el sistema auditivo humano es más sensible a los cambios en las frecuencias más bajas que en las más altas, y esta sensibilidad disminuye logarítmicamente a medida que aumenta la frecuencia. La escala mel es una escala de percepción que se aproxima a la respuesta de frecuencia no lineal del oído humano.\n",
    "\n",
    "Para crear un espectrograma mel, se utiliza el STFT como antes, dividiendo el audio en segmentos cortos para obtener una secuencia de espectros de frecuencia. Además, cada espectro se envía a través de un conjunto de filtros, el llamado banco de filtros mel, para transformar las frecuencias a la escala mel."
   ]
  },
  {
   "cell_type": "code",
   "execution_count": null,
   "metadata": {},
   "outputs": [],
   "source": [
    "S = librosa.feature.melspectrogram(y=array, sr=sampling_rate, n_mels=128, fmax=8000)\n",
    "S_dB = librosa.power_to_db(S, ref=np.max)\n",
    "\n",
    "plt.figure().set_figwidth(12)\n",
    "librosa.display.specshow(S_dB, x_axis=\"time\", y_axis=\"mel\", sr=sampling_rate, fmax=8000)\n",
    "plt.colorbar()"
   ]
  }
 ],
 "metadata": {
  "kernelspec": {
   "display_name": "Python 3",
   "language": "python",
   "name": "python3"
  },
  "language_info": {
   "name": "python",
   "version": "3.11.5"
  }
 },
 "nbformat": 4,
 "nbformat_minor": 2
}
