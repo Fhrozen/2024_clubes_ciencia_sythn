{
 "cells": [
  {
   "cell_type": "markdown",
   "metadata": {},
   "source": [
    "# Potenciando modelos de lenguaje grandes con habilidades conversacionales intermodales intrínsecas\n"
   ]
  },
  {
   "cell_type": "markdown",
   "metadata": {},
   "source": [
    "### SpeechGPT"
   ]
  },
  {
   "cell_type": "markdown",
   "metadata": {},
   "source": [
    "Es un modelo de lenguaje grande con habilidades conversacionales intermodales intrínsecas, capaz de percibir y generar contenido multimodelo siguiendo instrucciones humanas. Con representaciones de voz discretas, primero se contruyo SpeechInstruct con un conjunto de datos de instrucción de voz multimodal a gran escala. Además, se empleo una estrategia de capacitación de tres etapas que incluye capacitación previa de adaptación de modalidad, ajuste de instrucción multimodal y ajuste de instrucción de cadena de modalidad.\n",
    "\n",
    "Primero, instalamos una libreria adicional necesaria:"
   ]
  },
  {
   "cell_type": "code",
   "execution_count": null,
   "metadata": {},
   "outputs": [],
   "source": [
    "!pip install fairseq"
   ]
  },
  {
   "cell_type": "markdown",
   "metadata": {},
   "source": [
    "Y, Aquí hay un ejemplo rápido usando este modelo:"
   ]
  },
  {
   "cell_type": "code",
   "execution_count": null,
   "metadata": {},
   "outputs": [],
   "source": [
    "from huggingface_hub import snapshot_download\n",
    "import os\n",
    "import extra_libs\n",
    "from IPython.Display import Audio\n",
    "\n",
    "CACHE_MODEL_DIR = \"../models\"\n",
    "\n",
    "model_cm_path = snapshot_download(\n",
    "    repo_id=\"fnlp/SpeechGPT-7B-cm\",\n",
    "    cache_dir=CACHE_MODEL_DIR\n",
    ")\n",
    "\n",
    "model_com_path = snapshot_download(\n",
    "    repo_id=\"fnlp/SpeechGPT-7B-com\",\n",
    "    cache_dir=CACHE_MODEL_DIR\n",
    ")\n",
    "\n",
    "speechgpt = extra_libs.SpeechGPTInference(\n",
    "    model_cm_path,\n",
    "    model_com_path,\n",
    "    os.path.join(CACHE_MODEL_DIR, \"speech2unit\"),\n",
    "    os.path.join(CACHE_MODEL_DIR, \"vocoder\")\n",
    ")\n",
    "\n",
    "# Grabar un mensaje y subirlo:\n",
    "mensaje = \"prompt.wav\"\n",
    "respuesta = speechgpt([mensaje])\n",
    "\n",
    "Audio(respuesta, rate=rate)"
   ]
  },
  {
   "cell_type": "markdown",
   "metadata": {},
   "source": [
    "Ahora, anade un nuevo comando y ejecuta la salida."
   ]
  },
  {
   "cell_type": "code",
   "execution_count": null,
   "metadata": {},
   "outputs": [],
   "source": []
  }
 ],
 "metadata": {
  "kernelspec": {
   "display_name": "Python 3",
   "language": "python",
   "name": "python3"
  },
  "language_info": {
   "name": "python",
   "version": "3.11.5"
  }
 },
 "nbformat": 4,
 "nbformat_minor": 2
}
