{
 "cells": [
  {
   "cell_type": "markdown",
   "metadata": {},
   "source": [
    "# Conversor de Voz"
   ]
  },
  {
   "cell_type": "markdown",
   "metadata": {},
   "source": [
    "Utilice el siguiente código para convertir una forma de onda de voz mono de 16 kHz en otra."
   ]
  },
  {
   "cell_type": "code",
   "execution_count": null,
   "metadata": {},
   "outputs": [],
   "source": [
    "from transformers import SpeechT5Processor, SpeechT5ForSpeechToSpeech, SpeechT5HifiGan\n",
    "from datasets import load_dataset\n",
    "import torch\n",
    "\n",
    "dataset = load_dataset(\"hf-internal-testing/librispeech_asr_demo\", \"clean\", split=\"validation\")\n",
    "dataset = dataset.sort(\"id\")\n",
    "sampling_rate = dataset.features[\"audio\"].sampling_rate\n",
    "example_speech = dataset[0][\"audio\"][\"array\"]\n",
    "\n",
    "processor = SpeechT5Processor.from_pretrained(\"microsoft/speecht5_vc\")\n",
    "model = SpeechT5ForSpeechToSpeech.from_pretrained(\"microsoft/speecht5_vc\")\n",
    "vocoder = SpeechT5HifiGan.from_pretrained(\"microsoft/speecht5_hifigan\")\n",
    "\n",
    "inputs = processor(audio=example_speech, sampling_rate=sampling_rate, return_tensors=\"pt\")\n",
    "\n",
    "# load xvector containing speaker's voice characteristics from a file\n",
    "speaker_embeddings = torch.zeros((1, 512))  # or load xvectors from a file\n",
    "\n",
    "speech = model.generate_speech(inputs[\"input_values\"], speaker_embeddings, vocoder=vocoder)\n",
    "\n",
    "import soundfile as sf\n",
    "sf.write(\"speech.wav\", speech.numpy(), samplerate=16000)"
   ]
  },
  {
   "cell_type": "markdown",
   "metadata": {},
   "source": [
    "Ahora extraemos las caracteristicas de una voz diferente"
   ]
  },
  {
   "cell_type": "code",
   "execution_count": null,
   "metadata": {},
   "outputs": [],
   "source": [
    "import torchaudio\n",
    "from speechbrain.pretrained import EncoderClassifier\n",
    "classifier = EncoderClassifier.from_hparams(source=\"speechbrain/spkrec-xvect-voxceleb\", savedir=\"pretrained_models/spkrec-xvect-voxceleb\")\n",
    "signal, fs =torchaudio.load('tests/samples/ASR/spk1_snt1.wav')\n",
    "embeddings = classifier.encode_batch(signal)\n",
    "# Podemos guardarlas y cargarlas luego con:\n",
    "# speaker_embeddings = np.load(\"xvector_speaker_embedding.npy\")\n",
    "# speaker_embeddings = torch.tensor(speaker_embeddings).unsqueeze(0)\n",
    "\n",
    "speech = model.generate_speech(inputs[\"input_values\"], speaker_embeddings, vocoder=vocoder)\n",
    "\n",
    "import soundfile as sf\n",
    "sf.write(\"speech.wav\", speech.numpy(), samplerate=16000)"
   ]
  },
  {
   "cell_type": "markdown",
   "metadata": {},
   "source": [
    "Ahora, analizemos el interior de este modelo"
   ]
  },
  {
   "cell_type": "code",
   "execution_count": null,
   "metadata": {},
   "outputs": [],
   "source": []
  },
  {
   "cell_type": "markdown",
   "metadata": {},
   "source": [
    "## Ahora utilizaremos un conversor voz, basado en TTS"
   ]
  },
  {
   "cell_type": "markdown",
   "metadata": {},
   "source": [
    "Primero, instalamos la libreria necesaria."
   ]
  },
  {
   "cell_type": "code",
   "execution_count": null,
   "metadata": {},
   "outputs": [],
   "source": [
    "%pip install TTS"
   ]
  },
  {
   "cell_type": "markdown",
   "metadata": {},
   "source": [
    "Utilice el siguiente código para convertir un texto a una forma de onda de voz mono de 16 kHz."
   ]
  },
  {
   "cell_type": "code",
   "execution_count": null,
   "metadata": {},
   "outputs": [],
   "source": [
    "from TTS.api import TTS\n",
    "tts = TTS(\"tts_models/multilingual/multi-dataset/xtts_v2\", gpu=True)\n",
    "\n",
    "# generate speech by cloning a voice using default settings\n",
    "tts.tts_to_file(\n",
    "    text=\"It took me quite a long time to develop a voice, and now that I have it I'm not going to be silent.\",\n",
    "    file_path=\"output.wav\",\n",
    "    speaker_wav=\"/path/to/target/speaker.wav\",\n",
    "    language=\"en\"\n",
    ")"
   ]
  },
  {
   "cell_type": "markdown",
   "metadata": {},
   "source": [
    "Ahora, analizemos el interior de este modelo"
   ]
  },
  {
   "cell_type": "code",
   "execution_count": null,
   "metadata": {},
   "outputs": [],
   "source": []
  }
 ],
 "metadata": {
  "language_info": {
   "name": "python"
  }
 },
 "nbformat": 4,
 "nbformat_minor": 2
}
