{
 "cells": [
  {
   "cell_type": "markdown",
   "metadata": {},
   "source": [
    "# Sintetizacion de Voz usando valores discretos\n"
   ]
  },
  {
   "cell_type": "markdown",
   "metadata": {},
   "source": [
    "### Encodec"
   ]
  },
  {
   "cell_type": "markdown",
   "metadata": {},
   "source": [
    "El modelo de códec neuronal EnCodec fue propuesto en Compresión de audio neuronal de alta fidelidad por Alexandre Défossez, Jade Copet, Gabriel Synnaeve y Yossi Adi.\n",
    "\n",
    "Aquí hay un ejemplo rápido de cómo codificar y decodificar un audio usando este modelo:"
   ]
  },
  {
   "cell_type": "code",
   "execution_count": null,
   "metadata": {},
   "outputs": [],
   "source": [
    "from datasets import load_dataset, Audio\n",
    "from transformers import EncodecModel, AutoProcessor\n",
    "\n",
    "librispeech_dummy = load_dataset(\"hf-internal-testing/librispeech_asr_dummy\", \"clean\", split=\"validation\")\n",
    "\n",
    "model = EncodecModel.from_pretrained(\"facebook/encodec_24khz\")\n",
    "processor = AutoProcessor.from_pretrained(\"facebook/encodec_24khz\")\n",
    "librispeech_dummy = librispeech_dummy.cast_column(\"audio\", Audio(sampling_rate=processor.sampling_rate))\n",
    "audio_sample = librispeech_dummy[-1][\"audio\"][\"array\"]\n",
    "inputs = processor(raw_audio=audio_sample, sampling_rate=processor.sampling_rate, return_tensors=\"pt\")\n",
    "\n",
    "encoder_outputs = model.encode(inputs[\"input_values\"], inputs[\"padding_mask\"])\n",
    "audio_values = model.decode(encoder_outputs.audio_codes, encoder_outputs.audio_scales, inputs[\"padding_mask\"])[0]\n",
    "# or the equivalent with a forward pass\n",
    "audio_values = model(inputs[\"input_values\"], inputs[\"padding_mask\"]).audio_values"
   ]
  },
  {
   "cell_type": "markdown",
   "metadata": {},
   "source": [
    "Ahora, analizemos el interior de Encodec"
   ]
  },
  {
   "cell_type": "code",
   "execution_count": null,
   "metadata": {},
   "outputs": [],
   "source": []
  },
  {
   "cell_type": "markdown",
   "metadata": {},
   "source": [
    "### Bark"
   ]
  },
  {
   "cell_type": "markdown",
   "metadata": {},
   "source": [
    "Ahora, utilizaremos bark (de suno-ai https://github.com/suno-ai/bark) para generar sonidos.\n",
    "Y luego analizamos el contenido interno.\n",
    "A continuación se muestra una lista de algunos sonidos conocidos ajenos al habla, pero cada día encontramos más.\n",
    "- [laughter]\n",
    "- [laughs]\n",
    "- [sighs]\n",
    "- [music]\n",
    "- [gasps]\n",
    "- [clears throat]\n",
    "- — or ... por vacilaciones\n",
    "- ♪ para letras de canciones\n",
    "- MAYÚSCULAS para enfatizar una palabra\n",
    "- [MAN] y [WOMAN] direccionar a Bark hacia hablantes masculinos y femeninos, respectivamente\n",
    "\n",
    "Puedes obtener la lista de los preset aqui: https://suno-ai.notion.site/8b8e8749ed514b0cbf3f699013548683?v=bc67cff786b04b50b3ceb756fd05f68c"
   ]
  },
  {
   "cell_type": "code",
   "execution_count": null,
   "metadata": {},
   "outputs": [],
   "source": [
    "import torch\n",
    "import soundfile as sf\n",
    "from datetime import datetime\n",
    "from transformers import AutoProcessor, BarkModel\n",
    "\n",
    "\n",
    "device = torch.device(\"cuda\" if torch.cuda.is_available() else \"cpu\")\n",
    "dtype = torch.float16\n",
    "\n",
    "processor = AutoProcessor.from_pretrained(\n",
    "    \"suno/bark-small\",\n",
    "    cache_dir=CACHE_DIR,\n",
    ")\n",
    "model = BarkModel.from_pretrained(\n",
    "    \"suno/bark\",\n",
    "    cache_dir=\"./models\",\n",
    ").to(device)\n",
    "\n",
    "model.enable_cpu_offload()\n",
    "sampling_rate = model.generation_config.sample_rate\n",
    "\n",
    "caption = \"\"\n",
    "voice_preset = \"v2/es_speaker_1\"\n",
    "\n",
    "inputs = processor(caption, voice_preset=voice_preset).to(device)\n",
    "audio_out = model.generate(**inputs).squeeze().cpu().numpy()\n",
    "\n",
    "time_now = datetime.now().strftime(\"%Y%m%d_%H%M%S\")\n",
    "name_out = f\"generated/speech_{time_now}.wav\"\n",
    "sf.write(name_out, audio_out, sampling_rate)"
   ]
  }
 ],
 "metadata": {
  "language_info": {
   "name": "python"
  }
 },
 "nbformat": 4,
 "nbformat_minor": 2
}
