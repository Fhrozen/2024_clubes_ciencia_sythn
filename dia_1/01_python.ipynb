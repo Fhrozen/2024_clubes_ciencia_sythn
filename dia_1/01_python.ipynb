{
 "cells": [
  {
   "cell_type": "markdown",
   "id": "3f712b82",
   "metadata": {},
   "source": [
    "# Introduccion a Python"
   ]
  },
  {
   "cell_type": "markdown",
   "id": "2ac33f91",
   "metadata": {},
   "source": [
    "En este notebook veremos conceptos basicos de Python y como podemos programar.  \n",
    "(Este notebook tiene como referencia el video: https://www.youtube.com/watch?v=gOR9qZ3ZgwA)"
   ]
  },
  {
   "cell_type": "markdown",
   "id": "ce6136c8",
   "metadata": {},
   "source": [
    "Comenzemos con un Hola mundo:"
   ]
  },
  {
   "cell_type": "code",
   "execution_count": null,
   "id": "8ea871fd",
   "metadata": {},
   "outputs": [],
   "source": [
    "# print()"
   ]
  },
  {
   "cell_type": "markdown",
   "id": "8effb30d",
   "metadata": {},
   "source": [
    "## Variables y Operaciones"
   ]
  },
  {
   "cell_type": "markdown",
   "id": "a8de4a55",
   "metadata": {},
   "source": [
    "Recuerda: Una variable se declara del lado izquierdo y al lado derecho se le asigna su valor.  \n",
    "Esta puede ser un valor numerico/texto/resultado de una operacion/etc."
   ]
  },
  {
   "cell_type": "code",
   "execution_count": null,
   "id": "5b48f30e",
   "metadata": {},
   "outputs": [],
   "source": [
    "variable =\n",
    "print(variable)"
   ]
  },
  {
   "cell_type": "markdown",
   "id": "1cb9115e",
   "metadata": {},
   "source": [
    "Ahora, reemplaza los nombres de las siguientes variables con los que sean de tu agrado y  \n",
    "asigna valores numericos (enteros o flotantes) a las variables:"
   ]
  },
  {
   "cell_type": "code",
   "execution_count": null,
   "id": "eb6bf318",
   "metadata": {},
   "outputs": [],
   "source": [
    "my_var1 = \n",
    "my_var2 = \n",
    "my_var3 = my_var1 + my_var2\n",
    "print(my_var3)"
   ]
  },
  {
   "cell_type": "markdown",
   "id": "df45d1cc",
   "metadata": {},
   "source": [
    "Utilizando el ejemplo anterior, reemplaza las variables con valores de texto (string)"
   ]
  },
  {
   "cell_type": "code",
   "execution_count": null,
   "id": "4b4e3d64",
   "metadata": {},
   "outputs": [],
   "source": [
    "# Escribe las variables de nuevo en esta entrada"
   ]
  },
  {
   "cell_type": "markdown",
   "id": "1b5a6601",
   "metadata": {},
   "source": [
    "Existen tipos de variables especiales llamadas listas y diccionarios:  \n",
    "Seran muy utiles en los ejercicios posteriores."
   ]
  },
  {
   "cell_type": "markdown",
   "id": "2bd05f4c",
   "metadata": {},
   "source": [
    "**listas**: como su nombre dice, son colecciones en las que se pueden almacenar multiples variables o valores. Se utilizan corchetes para declaralos."
   ]
  },
  {
   "cell_type": "code",
   "execution_count": null,
   "id": "f1533120",
   "metadata": {},
   "outputs": [],
   "source": [
    "mi_lista = [, , , , ,]\n",
    "print(mi_lista)\n",
    "print(mi_lista[0])"
   ]
  },
  {
   "cell_type": "markdown",
   "id": "af941959",
   "metadata": {},
   "source": [
    "**diccionarios**: Similar a las listas, son colecciones de datos en las que se almacenan valores a traves de una llave (key) y su valor (value). Se utilizan llaves para declararlos.  \n",
    "Ej: a = {'key': value}"
   ]
  },
  {
   "cell_type": "code",
   "execution_count": null,
   "id": "4a05b690",
   "metadata": {},
   "outputs": [],
   "source": [
    "mi_diccionario = {\n",
    "    'key1': ,\n",
    "    'key2': ,\n",
    "    'key3': ,\n",
    "}\n",
    "print(mi_diccionario)\n",
    "print(mi_diccionario['valor_1'])"
   ]
  },
  {
   "cell_type": "markdown",
   "id": "1d636426",
   "metadata": {},
   "source": [
    "## Condicionales"
   ]
  },
  {
   "cell_type": "markdown",
   "id": "a9279419",
   "metadata": {},
   "source": [
    "En Python, una herramienta de control de flujo son las condicionales **if**  \n",
    "Son las más conocidas y soportan condiciones logicas.\n",
    "\n",
    "Ejemplo:\n",
    "```python\n",
    "if (10 == 11):\n",
    "    print('diez es igual a once')\n",
    "else:\n",
    "    print('diez no es igual a once')\n",
    "```\n"
   ]
  },
  {
   "cell_type": "code",
   "execution_count": null,
   "id": "fa6b5d4d",
   "metadata": {},
   "outputs": [],
   "source": [
    "var1 =\n",
    "var2 =\n",
    "if ():\n",
    "    # Ejecuto si es verdadero\n",
    "else:\n",
    "    # Ejecuto si es falso."
   ]
  },
  {
   "cell_type": "markdown",
   "id": "adbe587a",
   "metadata": {},
   "source": [
    "Ahora en caso de multiples opciones usamos **elif** para definir cada condición.  \n",
    "_Usaremos el comando input para ejecutar la funcion_"
   ]
  },
  {
   "cell_type": "code",
   "execution_count": null,
   "id": "04779ac2",
   "metadata": {},
   "outputs": [],
   "source": [
    "valor_usuario = input(\"Ingrese un valor numérico\")\n",
    "\n",
    "if (valor_usuario % 2 == 0):\n",
    "    print('El valor es divisible entre 2')\n",
    "elif (valor_usuario % 3 == 0):\n",
    "    print('El valor es divisible entre 3')\n",
    "elif (valor_usuario % 5 == 0):\n",
    "    print('El valor es divisible entre 5')\n",
    "elif (valor_usuario % 7 == 0):\n",
    "    print('El valor es divisible entre 7')\n",
    "else:\n",
    "    print('El valor ingresado no es divisible por numeros primos menores a 8')"
   ]
  },
  {
   "cell_type": "markdown",
   "id": "b3f119ab",
   "metadata": {},
   "source": [
    "A partir de la version 3.10 de Python, podemos reemplazar el codigo anterior usando el comando **match**  "
   ]
  },
  {
   "cell_type": "markdown",
   "id": "4b2d4eef",
   "metadata": {},
   "source": [
    "## Lazos (For y While)"
   ]
  },
  {
   "cell_type": "markdown",
   "id": "ad8cc635",
   "metadata": {},
   "source": [
    "Son herramientas de control de flujo empleados para iterar en secuencias.  \n",
    "Una lista o un diccionario son sequencias.  \n",
    "Ej.: **For**\n",
    "```python\n",
    "mi_lista = ['fresas', 'uvas', 'mandarinas']\n",
    "for mi_valor in mi_lista:\n",
    "    print(f'me gusta las {mi_valor}')\n",
    "```"
   ]
  },
  {
   "cell_type": "code",
   "execution_count": null,
   "id": "6c2bb41a",
   "metadata": {},
   "outputs": [],
   "source": [
    "# Ejecuta tu propia lista"
   ]
  },
  {
   "cell_type": "markdown",
   "id": "fe774c60",
   "metadata": {},
   "source": [
    "Existen comandos adicionales que se pueden emplear junto a **for**"
   ]
  },
  {
   "cell_type": "markdown",
   "id": "c73d5c61",
   "metadata": {},
   "source": [
    "### Range"
   ]
  },
  {
   "cell_type": "markdown",
   "id": "fd937e46",
   "metadata": {},
   "source": [
    "Range es un generador, y devuelve valores numericos en un secuencia ascendente o descendente.  \n",
    "Ej.\n",
    "```python\n",
    "my_gen = range(10)\n",
    "for i in my_gen:\n",
    "    print(i)\n",
    "```"
   ]
  },
  {
   "cell_type": "markdown",
   "id": "e66a8fb9",
   "metadata": {},
   "source": [
    "### break, pass, & continue"
   ]
  },
  {
   "cell_type": "markdown",
   "id": "d62997c1",
   "metadata": {},
   "source": [
    "**break**: rompe un loop de iteracion (for o while).  \n",
    "**pass**: es un punto de ingreso muerto (null) que no sucede nada cuando se ejecuta.  \n",
    "**continue**: hace un salto en un loop de iteracion."
   ]
  },
  {
   "cell_type": "code",
   "execution_count": null,
   "id": "3e04ed59",
   "metadata": {},
   "outputs": [],
   "source": [
    "for x in range(10):\n",
    "    if x == 5:\n",
    "        break\n",
    "print(f'el valor de x cuando se ejecuta un break es {x}')\n",
    "\n",
    "for x in range(10):\n",
    "    pass\n",
    "print(f'el valor de x cuando se ejecuta un pass es {x}')\n",
    "\n",
    "for x in range(10):\n",
    "    if x == 5:\n",
    "        continue\n",
    "    print(f'el valor de x es:{x}')"
   ]
  },
  {
   "cell_type": "markdown",
   "id": "4a0e7eff",
   "metadata": {},
   "source": [
    "### While"
   ]
  },
  {
   "cell_type": "markdown",
   "id": "8b52e499",
   "metadata": {},
   "source": [
    "La funcion **while** ejecuta el codigo mientras se cumpla una condición.  \n",
    "(Una mezcla de **for** e **if**)  \n",
    "Ej.:\n",
    "```python\n",
    "contador = 10\n",
    "while contador >= 0:\n",
    "    print(f'cuenta regresiva: {contador}')\n",
    "    contador -= 1\n",
    "```"
   ]
  },
  {
   "cell_type": "code",
   "execution_count": null,
   "id": "609ce28d",
   "metadata": {},
   "outputs": [],
   "source": [
    "# Escribe tu propio codigo para while"
   ]
  },
  {
   "cell_type": "markdown",
   "id": "dc62ce53",
   "metadata": {},
   "source": [
    "## Funciones"
   ]
  },
  {
   "cell_type": "markdown",
   "id": "62af5dd2",
   "metadata": {},
   "source": [
    "Son bloques de codigo que se ejecutan cuando son llamadas.  \n",
    "Las variables dentro de la funcion se denominan variables **locales**."
   ]
  },
  {
   "cell_type": "code",
   "execution_count": null,
   "id": "f1e0af7c",
   "metadata": {},
   "outputs": [],
   "source": [
    "def my_func():\n",
    "    print('hello')\n",
    "    \n",
    "# llama a tu funcion"
   ]
  },
  {
   "cell_type": "markdown",
   "id": "5bb526e9",
   "metadata": {},
   "source": [
    "la funcion puede tener argumentos"
   ]
  },
  {
   "cell_type": "code",
   "execution_count": null,
   "id": "6c11656a",
   "metadata": {},
   "outputs": [],
   "source": [
    "def my_func(this_name):\n",
    "    print(f'hello {this_name}')"
   ]
  },
  {
   "cell_type": "markdown",
   "id": "c547d504",
   "metadata": {},
   "source": [
    "los argumentos pueden tener valores predefinidos."
   ]
  },
  {
   "cell_type": "code",
   "execution_count": null,
   "id": "159fd715",
   "metadata": {},
   "outputs": [],
   "source": [
    "def my_func(this_name, this_value='fine'):\n",
    "    print(f'hello {this_name}, with value {this_value}')"
   ]
  },
  {
   "cell_type": "markdown",
   "id": "01900474",
   "metadata": {},
   "source": [
    "### Def como generador"
   ]
  },
  {
   "cell_type": "markdown",
   "id": "7bc1c9fb",
   "metadata": {},
   "source": [
    "Se puede definir una funcion generadora usando la misma forma de definicion a una funcion normal, solo que usamos la palabra clave `yield` para el caso.\n",
    "Cuando un generador es usado, el codigo de toda la funcion no es llamada, sino devuelve la parte a la que es iterada."
   ]
  },
  {
   "cell_type": "code",
   "execution_count": null,
   "id": "b594e34c",
   "metadata": {},
   "outputs": [],
   "source": [
    "def my_gen(values):\n",
    "    for val in values:\n",
    "        yield val "
   ]
  }
 ],
 "metadata": {
  "kernelspec": {
   "display_name": "Python 3 (ipykernel)",
   "language": "python",
   "name": "python3"
  },
  "language_info": {
   "codemirror_mode": {
    "name": "ipython",
    "version": 3
   },
   "file_extension": ".py",
   "mimetype": "text/x-python",
   "name": "python",
   "nbconvert_exporter": "python",
   "pygments_lexer": "ipython3",
   "version": "0.0.0"
  }
 },
 "nbformat": 4,
 "nbformat_minor": 5
}
