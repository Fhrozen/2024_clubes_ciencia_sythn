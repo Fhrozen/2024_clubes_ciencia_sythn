{
 "cells": [
  {
   "cell_type": "markdown",
   "id": "16b38fc6",
   "metadata": {},
   "source": [
    "## Clases (Python Avanzado: Orientacion de Objetos)"
   ]
  },
  {
   "cell_type": "markdown",
   "id": "c258211f",
   "metadata": {},
   "source": [
    "Las clases son objetos que proporcionan un medio para agrupar datos y funciones."
   ]
  },
  {
   "cell_type": "code",
   "execution_count": null,
   "id": "74567f93",
   "metadata": {},
   "outputs": [],
   "source": [
    "class MyPerson:\n",
    "    def __init__(self, this_name, this_age):\n",
    "        self.name = this_name\n",
    "        self.age = this_age\n",
    "    \n",
    "    def presentation(self, guest):\n",
    "        print(f'Hello {guest}, my name is {self.name}')\n"
   ]
  },
  {
   "cell_type": "markdown",
   "id": "32fd7f35",
   "metadata": {},
   "source": [
    "## Importaciones"
   ]
  },
  {
   "cell_type": "markdown",
   "id": "422ae5bc",
   "metadata": {},
   "source": [
    "Las importaciones permiten el acceso de codigo implementado en otros modulos."
   ]
  },
  {
   "cell_type": "code",
   "execution_count": null,
   "id": "28482e96",
   "metadata": {},
   "outputs": [],
   "source": [
    "import os\n",
    "print(os.getcwd())"
   ]
  },
  {
   "cell_type": "markdown",
   "id": "8348ec23",
   "metadata": {},
   "source": [
    "Mas detalles acerca de os en: https://docs.python.org/3.9/library/os.html"
   ]
  },
  {
   "cell_type": "markdown",
   "id": "9f2bd564",
   "metadata": {},
   "source": [
    "### Librerias\n",
    "\n",
    "Dentro de las librerias que vamos a utilizar, las mas importantes son NumPy y MatPlotLib"
   ]
  },
  {
   "cell_type": "markdown",
   "id": "ea134ae6",
   "metadata": {},
   "source": [
    "**Atencion**: Ejecute la siguiente linea solo en Google Colab. En caso de ejecutar en una PC local, ignorela."
   ]
  },
  {
   "cell_type": "code",
   "execution_count": null,
   "id": "04806797",
   "metadata": {},
   "outputs": [],
   "source": [
    "from google.colab import drive\n",
    "drive.mount('/content/drive')"
   ]
  },
  {
   "cell_type": "code",
   "execution_count": null,
   "id": "702069b0",
   "metadata": {},
   "outputs": [],
   "source": [
    "import numpy as np\n",
    "from matplotlib import pyplot as plt"
   ]
  },
  {
   "cell_type": "markdown",
   "id": "c4843eaa",
   "metadata": {},
   "source": [
    "Generamos un vector (un arreglo 1-D o un conjunto de variables del mismo tipo cuyo acceso se realiza por índices) usando numeros aleatorios"
   ]
  },
  {
   "cell_type": "code",
   "execution_count": null,
   "id": "b2432d35",
   "metadata": {},
   "outputs": [],
   "source": [
    "my_vector = np.random.randn(100)\n",
    "plt.plot(my_vector)"
   ]
  },
  {
   "cell_type": "markdown",
   "id": "49b110a6",
   "metadata": {},
   "source": [
    "Ahora generamos un arreglo (o una matriz de multiples dimensiones) de 2-D."
   ]
  },
  {
   "cell_type": "code",
   "execution_count": null,
   "id": "b7c6a105",
   "metadata": {},
   "outputs": [],
   "source": [
    "my_array = np.random.rand(100, 100)\n",
    "plt.imshow(my_array)"
   ]
  },
  {
   "cell_type": "markdown",
   "id": "d14d5a56",
   "metadata": {},
   "source": [
    "Finalmente, cargamos una imagen y la mostramos"
   ]
  },
  {
   "cell_type": "code",
   "execution_count": null,
   "id": "47e4c7ee",
   "metadata": {},
   "outputs": [],
   "source": [
    "from matplotlib import image as mpimg\n",
    "\n",
    "image = mpimg.imread('/content/drive/my_image.png')\n",
    "print(f'La imagen tiene las dimensiones: {image.shape}')\n",
    "print(image[0])\n",
    "plt.imshow(image)"
   ]
  }
 ],
 "metadata": {
  "kernelspec": {
   "display_name": "Python 3 (ipykernel)",
   "language": "python",
   "name": "python3"
  },
  "language_info": {
   "codemirror_mode": {
    "name": "ipython",
    "version": 3
   },
   "file_extension": ".py",
   "mimetype": "text/x-python",
   "name": "python",
   "nbconvert_exporter": "python",
   "pygments_lexer": "ipython3",
   "version": "3.9.7"
  }
 },
 "nbformat": 4,
 "nbformat_minor": 5
}
