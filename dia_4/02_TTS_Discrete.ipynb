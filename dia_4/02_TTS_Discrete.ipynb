{
 "cells": [
  {
   "cell_type": "markdown",
   "metadata": {},
   "source": [
    "# Sintetizacion de Voz usando valores discretos\n"
   ]
  },
  {
   "cell_type": "markdown",
   "metadata": {},
   "source": [
    "### Bark"
   ]
  },
  {
   "cell_type": "markdown",
   "metadata": {},
   "source": [
    "Ahora, utilizaremos bark (de suno-ai https://github.com/suno-ai/bark) para generar sonidos.\n",
    "Y luego analizamos el contenido interno.\n",
    "A continuación se muestra una lista de algunos sonidos conocidos ajenos al habla, pero cada día encontramos más.\n",
    "- [laughter]\n",
    "- [laughs]\n",
    "- [sighs]\n",
    "- [music]\n",
    "- [gasps]\n",
    "- [clears throat]\n",
    "- — or ... por vacilaciones\n",
    "- ♪ para letras de canciones\n",
    "- MAYÚSCULAS para enfatizar una palabra\n",
    "- [MAN] y [WOMAN] direccionar a Bark hacia hablantes masculinos y femeninos, respectivamente\n",
    "\n",
    "Puedes obtener la lista de los preset aqui: https://suno-ai.notion.site/8b8e8749ed514b0cbf3f699013548683?v=bc67cff786b04b50b3ceb756fd05f68c"
   ]
  },
  {
   "cell_type": "code",
   "execution_count": null,
   "metadata": {},
   "outputs": [],
   "source": [
    "import torch\n",
    "import soundfile as sf\n",
    "from datetime import datetime\n",
    "from transformers import AutoProcessor, BarkModel\n",
    "\n",
    "\n",
    "device = torch.device(\"cuda\" if torch.cuda.is_available() else \"cpu\")\n",
    "dtype = torch.float16\n",
    "\n",
    "processor = AutoProcessor.from_pretrained(\n",
    "    \"suno/bark-small\",\n",
    "    cache_dir=CACHE_DIR,\n",
    ")\n",
    "model = BarkModel.from_pretrained(\n",
    "    \"suno/bark\",\n",
    "    cache_dir=\"./models\",\n",
    ").to(device)\n",
    "\n",
    "model.enable_cpu_offload()\n",
    "sampling_rate = model.generation_config.sample_rate\n",
    "\n",
    "caption = \"\"\n",
    "voice_preset = \"v2/es_speaker_1\"\n",
    "\n",
    "inputs = processor(caption, voice_preset=voice_preset).to(device)\n",
    "audio_out = model.generate(**inputs).squeeze().cpu().numpy()\n",
    "\n",
    "time_now = datetime.now().strftime(\"%Y%m%d_%H%M%S\")\n",
    "name_out = f\"generated/speech_{time_now}.wav\"\n",
    "sf.write(name_out, audio_out, sampling_rate)"
   ]
  },
  {
   "cell_type": "markdown",
   "metadata": {},
   "source": []
  },
  {
   "cell_type": "markdown",
   "metadata": {},
   "source": []
  }
 ],
 "metadata": {
  "language_info": {
   "name": "python"
  }
 },
 "nbformat": 4,
 "nbformat_minor": 2
}
