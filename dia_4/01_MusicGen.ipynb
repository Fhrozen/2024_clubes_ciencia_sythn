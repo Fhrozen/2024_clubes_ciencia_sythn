{
 "cells": [
  {
   "cell_type": "markdown",
   "metadata": {},
   "source": [
    "# MusicGen"
   ]
  },
  {
   "cell_type": "markdown",
   "metadata": {},
   "source": [
    "Primero, instalamos la libreria necesaria."
   ]
  },
  {
   "cell_type": "code",
   "execution_count": null,
   "metadata": {},
   "outputs": [],
   "source": [
    "%pip install -r requirements"
   ]
  },
  {
   "cell_type": "markdown",
   "metadata": {},
   "source": [
    "MusicGen es un potente modelo de lenguaje único (LM) que redefine los límites de la generación de música condicional, con la capacidad de crear música de alta calidad basándose en descripciones de texto o melodías."
   ]
  },
  {
   "cell_type": "code",
   "execution_count": null,
   "metadata": {},
   "outputs": [],
   "source": [
    "import soundfile as sf\n",
    "from transformers import AutoProcessor, MusicgenForConditionalGeneration\n",
    "import torch\n",
    "\n",
    "CACHE_DIR=\"../models\"\n",
    "device = torch.device(\"cuda\" if torch.cuda.is_available() else \"cpu\")\n",
    "dtype = torch.float16\n",
    "\n",
    "processor = AutoProcessor.from_pretrained(\n",
    "    \"facebook/musicgen-small\",\n",
    "    cache_dir=CACHE_DIR,\n",
    ")\n",
    "model = MusicgenForConditionalGeneration.from_pretrained(\n",
    "    \"facebook/musicgen-small\",\n",
    "    cache_dir=CACHE_DIR,\n",
    ").to(device)\n",
    "sampling_rate = model.config.audio_encoder.sampling_rate\n",
    "\n",
    "caption = \"\"\n",
    "extras = {}\n",
    "\n",
    "inputs = processor(\n",
    "    text=[caption],\n",
    "    padding=True,\n",
    "    return_tensors=\"pt\",\n",
    "    **extras\n",
    ").to(device)\n",
    "\n",
    "audio_out = model.generate(**inputs, do_sample=True, guidance_scale=3, max_new_tokens=1024).squeeze()\n",
    "audio_out = audio_out.cpu().numpy()\n",
    "name_out = \"generated/music_out.wav\"\n",
    "sf.write(name_out, audio_out, sampling_rate)"
   ]
  },
  {
   "cell_type": "markdown",
   "metadata": {},
   "source": [
    "Ahora, analizemos el interior de este modelo"
   ]
  },
  {
   "cell_type": "code",
   "execution_count": null,
   "metadata": {},
   "outputs": [],
   "source": []
  }
 ],
 "metadata": {
  "language_info": {
   "name": "python"
  }
 },
 "nbformat": 4,
 "nbformat_minor": 2
}
